{
 "cells": [
  {
   "cell_type": "markdown",
   "metadata": {},
   "source": [
    "# <center> References </center>"
   ]
  },
  {
   "cell_type": "markdown",
   "metadata": {},
   "source": [
    "- https://stats.stackexchange.com/questions/128616/whats-a-real-world-example-of-overfitting<br>\n",
    "- https://machinelearningmastery.com/overfitting-and-underfitting-with-machine-learning-algorithms<br>\n",
    "- https://www.analyticsvidhya.com/blog/2017/10/fundamentals-deep-learning-activation-functions-when-to-use-them/<br>\n",
    "- https://keras.io/layers/core/<br>\n",
    "- https://stackoverflow.com/questions/44747343/keras-input-explanation-input-shape-units-batch-size-dim-etc<br>\n",
    "- http://blog.renovatiocloud.com/blog/the-dos-and-donts-of-machine-learning<br>\n",
    "- https://medium.com/@amarbudhiraja/https-medium-com-amarbudhiraja-learning-less-to-learn-better-dropout-in-deep-machine-learning-74334da4bfc5<br>\n",
    "- https://www.oreilly.com/learning/not-another-mnist-tutorial-with-tensorflow <br>\n",
    "- https://stackoverflow.com/questions/35520587/how-to-determine-the-number-of-layers-and-nodes-of-a-neural-network\n",
    "- http://www.heatonresearch.com/2017/06/01/hidden-layers.html\n",
    "- https://www.oreilly.com/learning/not-another-mnist-tutorial-with-tensorflow <br>\n",
    "- https://www.tensorflow.org/versions/master/images/softmax-regression-scalargraph.png <br>\n",
    "- https://www.tensorflow.org/versions/master/images/softmax-regression-vectorequation.png <br>\n",
    "- https://www.youtube.com/watch?v=Gj0iyo265bc <br>\n",
    "- https://www.oreilly.com/learning/not-another-mnist-tutorial-with-tensorflow \n",
    "- Chabacano - Own work, GFDL, https://commons.wikimedia.org/w/index.php?curid=3610704\n",
    "- book DEEP LEARNING with Python by Francois Chollet, Version 6, 2017"
   ]
  },
  {
   "cell_type": "code",
   "execution_count": null,
   "metadata": {
    "collapsed": true
   },
   "outputs": [],
   "source": []
  }
 ],
 "metadata": {
  "kernelspec": {
   "display_name": "Python 3",
   "language": "python",
   "name": "python3"
  },
  "language_info": {
   "codemirror_mode": {
    "name": "ipython",
    "version": 3
   },
   "file_extension": ".py",
   "mimetype": "text/x-python",
   "name": "python",
   "nbconvert_exporter": "python",
   "pygments_lexer": "ipython3",
   "version": "3.5.4"
  }
 },
 "nbformat": 4,
 "nbformat_minor": 2
}
