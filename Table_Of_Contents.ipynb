{
 "cells": [
  {
   "cell_type": "markdown",
   "metadata": {},
   "source": [
    "# <center> Machine Learning 101 Workshop </center>"
   ]
  },
  {
   "cell_type": "markdown",
   "metadata": {},
   "source": [
    "## Setup Test\n",
    "&emsp; &emsp;<a href=\"HelloWorld.ipynb\">Hello World</a> \n",
    "<br>\n",
    "## 1. Keras\n",
    "&emsp;&emsp;<a href = \"Keras/keras_01.ipynb\">1.1 MNIST</a> <br>\n",
    "&emsp;&emsp;<a href = \"Keras/keras_02.ipynb\">1.2 Preprocessing data</a> <br>\n",
    "&emsp;&emsp;<a href = \"Keras/keras_03.ipynb\">1.3 Output shape</a> <br>\n",
    "&emsp;&emsp;<a href = \"Keras/keras_04.ipynb\">1.4 Basic model of a network</a> <br>\n",
    "&emsp;&emsp;<a href = \"Keras/keras_05.ipynb\">1.5 Overfitting VS generalization</a> \n",
    "#### &emsp;&emsp; Better performance through...\n",
    "&emsp;&emsp;<a href = \"Keras/keras_06.ipynb\">1.6 Increasing/Decreasing number of layers</a> <br>\n",
    "&emsp;&emsp;<a href = \"Keras/keras_07.ipynb\">1.7 Batch size and number of epochs</a> <br>\n",
    "&emsp;&emsp;<a href = \"Keras/keras_08.ipynb\">1.8 Loss function</a> <br>\n",
    "&emsp;&emsp;<a href = \"Keras/keras_09.ipynb\">1.9 Optimizer</a> <br>\n",
    "&emsp;&emsp;<a href = \"Keras/keras_10.ipynb\">1.10 Activation function</a> <br>\n",
    "&emsp;&emsp;<a href = \"Keras/keras_11.ipynb\">1.11 Units</a> <br>\n",
    "&emsp;&emsp;<a href = \"Keras/keras_12.ipynb\">1.12 Dropout</a> <br>\n",
    "<br>\n",
    "## 2. TensorFlow\n",
    "&emsp;&emsp;<a href=\"TensorFlow/tensorflow_01.ipynb\">2.1 Structure</a> <br>\n",
    "&emsp;&emsp;<a href=\"TensorFlow/tensorflow_02.ipynb\">2.2 Weights</a> <br>\n",
    "\n",
    "## 3. References\n",
    "&emsp;&emsp;<a href=\"Refs.ipynb\">References</a> <br>\n",
    "\n",
    "\n"
   ]
  },
  {
   "cell_type": "code",
   "execution_count": null,
   "metadata": {
    "collapsed": true
   },
   "outputs": [],
   "source": []
  }
 ],
 "metadata": {
  "kernelspec": {
   "display_name": "Python 3",
   "language": "python",
   "name": "python3"
  },
  "language_info": {
   "codemirror_mode": {
    "name": "ipython",
    "version": 3
   },
   "file_extension": ".py",
   "mimetype": "text/x-python",
   "name": "python",
   "nbconvert_exporter": "python",
   "pygments_lexer": "ipython3",
   "version": "3.5.4"
  }
 },
 "nbformat": 4,
 "nbformat_minor": 2
}
