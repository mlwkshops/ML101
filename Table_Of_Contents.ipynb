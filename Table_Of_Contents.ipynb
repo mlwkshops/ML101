{
 "cells": [
  {
   "cell_type": "markdown",
   "metadata": {},
   "source": [
    "# <center> Machine Learning 101 Workshop </center>"
   ]
  },
  {
   "cell_type": "markdown",
   "metadata": {},
   "source": [
    "## Setup Test\n",
    "&emsp; &emsp;<a href=\"HelloWorld.ipynb\">Hello World</a> \n",
    "<br>\n",
    "## 1. Keras\n",
    "&emsp;&emsp;<a href = \"Keras/keras01.ipynb\">1.1 MNIST with Keras</a> <br>\n",
    "&emsp;&emsp;<a href = \"Keras/keras02.ipynb\">1.2 MNIST database</a> <br>\n",
    "&emsp;&emsp;<a href = \"Keras/keras03.ipynb\">1.3 Processing input data</a> <br>\n",
    "&emsp;&emsp;<a href = \"Keras/keras04.ipynb\">1.4 Processing output data</a> <br>\n",
    "&emsp;&emsp;<a href = \"Keras/keras05.ipynb\">1.5 Building a network</a> <br>\n",
    "&emsp;&emsp;&emsp;<a href = \"Keras/keras06.ipynb\">1.5.1 Activation functions</a> <br>\n",
    "&emsp;&emsp;&emsp;<a href = \"Keras/keras07.ipynb\">1.5.2 Units</a> <br>\n",
    "&emsp;&emsp;<a href = \"Keras/keras08.ipynb\">1.6 Compiling a network</a> <br>\n",
    "&emsp;&emsp;&emsp;<a href = \"Keras/keras09.ipynb\">1.6.1 Loss functions</a> <br>\n",
    "&emsp;&emsp;&emsp;<a href = \"Keras/keras10.ipynb\">1.6.2 Optimizers</a> <br>\n",
    "&emsp;&emsp;<a href = \"Keras/keras11.ipynb\">1.7 Training a network</a> <br>\n",
    "&emsp;&emsp;&emsp;<a href = \"Keras/keras12.ipynb\">1.7.1 Batch size and Epochs</a> <br>\n",
    "&emsp;&emsp;<a href = \"Keras/keras13.ipynb\">1.8 Overfitting</a> <br>\n",
    "&emsp;&emsp;<a href = \"Keras/keras14.ipynb\">1.9 Dropout</a> <br>\n",
    "\n",
    "<br>\n",
    "## 2. TensorFlow\n",
    "&emsp;&emsp;<a href=\"TensorFlow/tensorflow01.ipynb\">2.1 MNIST with TensorFlow</a> <br>\n",
    "&emsp;&emsp;<a href=\"TensorFlow/tensorflow02.ipynb\">2.2 Structure</a> <br>\n",
    "&emsp;&emsp;<a href=\"TensorFlow/tensorflow03.ipynb\">2.3 Weights and biases</a> <br>\n",
    "\n",
    "## 3. References\n",
    "&emsp;&emsp;<a href=\"Refs.ipynb\">References</a> <br>"
   ]
  }
 ],
 "metadata": {
  "kernelspec": {
   "display_name": "Python 3",
   "language": "python",
   "name": "python3"
  },
  "language_info": {
   "codemirror_mode": {
    "name": "ipython",
    "version": 3
   },
   "file_extension": ".py",
   "mimetype": "text/x-python",
   "name": "python",
   "nbconvert_exporter": "python",
   "pygments_lexer": "ipython3",
   "version": "3.6.3"
  }
 },
 "nbformat": 4,
 "nbformat_minor": 2
}
