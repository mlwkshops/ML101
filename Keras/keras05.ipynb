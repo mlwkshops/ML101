{
 "cells": [
  {
   "cell_type": "markdown",
   "metadata": {},
   "source": [
    "# <center> Keras </center>\n",
    "## <center>1.5 Building a network</center>"
   ]
  },
  {
   "cell_type": "markdown",
   "metadata": {
    "collapsed": true
   },
   "source": [
    "# Building a network"
   ]
  },
  {
   "cell_type": "markdown",
   "metadata": {},
   "source": [
    "We will now build a neural network for digit classification. \n"
   ]
  },
  {
   "cell_type": "markdown",
   "metadata": {},
   "source": [
    "# Code"
   ]
  },
  {
   "cell_type": "markdown",
   "metadata": {},
   "source": [
    "Let us run the code from the previous section first to import the dataset and reshape the input and output data."
   ]
  },
  {
   "cell_type": "code",
   "execution_count": null,
   "metadata": {
    "collapsed": true
   },
   "outputs": [],
   "source": [
    "# Importing the MNIST dataset\n",
    "from keras.datasets import mnist\n",
    "(train_images, train_labels), (test_images, test_labels) = mnist.load_data()\n",
    "\n",
    "# Processing the input data\n",
    "train_images = train_images.reshape((60000, 28 * 28))\n",
    "train_images = train_images.astype('float32') / 255\n",
    "\n",
    "test_images = test_images.reshape((10000, 28 * 28))\n",
    "test_images = test_images.astype('float32') / 255\n",
    "\n",
    "# Processing the output data\n",
    "from keras.utils import to_categorical\n",
    "\n",
    "train_labels = to_categorical(train_labels)\n",
    "test_labels = to_categorical(test_labels)"
   ]
  },
  {
   "cell_type": "markdown",
   "metadata": {},
   "source": [
    "Let us now examine the code related to creating a new network"
   ]
  },
  {
   "cell_type": "code",
   "execution_count": null,
   "metadata": {
    "collapsed": true
   },
   "outputs": [],
   "source": [
    "# Build a network\n",
    "from keras import models\n",
    "from keras import layers\n",
    "\n",
    "network = models.Sequential()\n",
    "network.add(layers.Dense(units=512, activation='relu', input_shape=(28 * 28,)))\n",
    "network.add(layers.Dense(units=10, activation='softmax'))"
   ]
  },
  {
   "cell_type": "markdown",
   "metadata": {},
   "source": [
    "### Models\n",
    "There are two types of models available in Keras: the `Sequential model` and the `Model class used with functional API`.\n",
    "The `Sequential model` is a linear stack of layers. You can create a Sequential model by passing a list of layer instances to the constructor.<br>\n",
    "In this workshop, we will discuss only the Sequential model. Interested reader is pointed towards <a href = \"https://keras.io/getting-started\">official Keras documentation</a> for more details.\n",
    "<br><br>\n",
    "\n",
    "### Layers\n",
    "There are three types of layers in a neural network:\n",
    "- input layer\n",
    "- hidden layer\n",
    "- output layer\n",
    "<br>\n",
    "\n",
    "Keras support different kinds of layer, which can be used in the network. The simplest one, which we have also used in this example is the `Dense` layer. A `Dense` layer is a fully connected neural network layer. \n",
    "<br>\n",
    "In the code block above, a fully connected neural network with two layers is created. The first hidden layer with 512 neurons is connected fully with the input layer containing 28 * 28 = 784 input neurons. The second layer is the output layer with 10 neurons which is fully connected with the first layer. <br>\n",
    "\n",
    "The argument `input_shape` specifies the input dimensions of the neural network. This has to be provided only to the first layer in a sequential model. The argument `units` specifies the number of neurons in each layer. The argument `activation` specifies the activation function used in that layer. More details on units and activation functions are provided in separate sections.\n",
    "\n",
    "The animation below shows the process of creating a network with Keras for 8 inputs and 1 output with two hidden layers containing 10 and 6 neurons respectively.\n",
    "<img src=\"img/keras_layer_stacking.gif\" width=\"100%\" />\n",
    "<br>In our example, we are using an input shape of 784 (number of pixels in each image) and 10 classes for digit classification (from 0-9) with one hidden layer containing 512 neurons."
   ]
  },
  {
   "cell_type": "markdown",
   "metadata": {},
   "source": [
    "## Best Practices\n"
   ]
  },
  {
   "cell_type": "markdown",
   "metadata": {},
   "source": [
    "- There is no golden rule on how to select the number of hidden layers in a network. This has to be done by experimentation. A large number of hidden layers with lots of neurons may cause overfitting. A small number of hidden layers may not be able to capture the task efficiently. <br>\n",
    "- One hidden layer is sufficient for the large majority of problems.\n",
    "- The number of hidden nodes is based on a relationship between:\n",
    "    - Number of input and output nodes\n",
    "    - Amount of training data available\n",
    "    - Complexity of the function that is trying to be learned\n",
    "    - The training algorithm\n",
    "    - To minimize the error and have a trained network that generalizes well, you need to pick an optimal number of hidden layers, as well as nodes in each hidden layer.\n",
    "    - Too few nodes will lead to high error for your system as the predictive factors might be too complex for a small number of nodes to capture\n",
    "    - Too many nodes will overfit to your training data and not generalize well\n",
    "\n",
    "<img src=\"img/hiddenlayers.png\" width=\"60%\" />\n",
    "\n",
    "<img src=\"img/structure_layer.PNG\" width=\"60%\" />"
   ]
  },
  {
   "cell_type": "markdown",
   "metadata": {},
   "source": [
    "## Pitfalls\n",
    "Adding many layers with a lot of neurons would not necessarily increase your prediction accuracy. It may lead to overfitting."
   ]
  },
  {
   "cell_type": "markdown",
   "metadata": {},
   "source": [
    "# Code "
   ]
  },
  {
   "cell_type": "markdown",
   "metadata": {},
   "source": [
    "Let us write a plotting function to visualize the prediction accuracy."
   ]
  },
  {
   "cell_type": "code",
   "execution_count": null,
   "metadata": {
    "collapsed": true
   },
   "outputs": [],
   "source": [
    "import matplotlib.pyplot as plt\n",
    "def plot_training_history(history):\n",
    "    plt.plot(history.history['acc'])\n",
    "    plt.plot(history.history['val_acc'])\n",
    "    plt.title('model accuracy')\n",
    "    plt.ylabel('accuracy')\n",
    "    plt.xlabel('epoch')\n",
    "    plt.legend(['train', 'test'], loc='upper left')\n",
    "    plt.show()\n",
    "    #loss\n",
    "    plt.plot(history.history['loss'])\n",
    "    plt.plot(history.history['val_loss'])\n",
    "    plt.title('model loss')\n",
    "    plt.ylabel('loss')\n",
    "    plt.xlabel('epoch')\n",
    "    plt.legend(['train', 'test'], loc='upper left')\n",
    "    plt.show()"
   ]
  },
  {
   "cell_type": "markdown",
   "metadata": {},
   "source": [
    "Compile the network and plot the results:"
   ]
  },
  {
   "cell_type": "code",
   "execution_count": null,
   "metadata": {
    "collapsed": true
   },
   "outputs": [],
   "source": [
    "# Comile the network\n",
    "network.compile(optimizer='rmsprop',\n",
    "                loss='categorical_crossentropy',\n",
    "                metrics=['accuracy'])\n",
    "\n",
    "# Train the network\n",
    "history = network.fit(train_images, train_labels, epochs=5, batch_size=128, \n",
    "                      verbose=1, validation_data=(test_images, test_labels))\n",
    "\n",
    "# Plot the training results\n",
    "plot_training_history(history)"
   ]
  },
  {
   "cell_type": "markdown",
   "metadata": {},
   "source": [
    "# Task\n",
    "Add/remove layers with different neurons to the network and see how the prediction accuracy changes. Document the results.<br>"
   ]
  },
  {
   "cell_type": "markdown",
   "metadata": {},
   "source": [
    "# Summary"
   ]
  },
  {
   "cell_type": "markdown",
   "metadata": {
    "collapsed": true
   },
   "source": [
    "We have seen in this section how to build a network with different layers."
   ]
  },
  {
   "cell_type": "markdown",
   "metadata": {
    "collapsed": true
   },
   "source": [
    "# Feedback\n",
    "<a href = \"http://goto/ml101_doc/Keras05\">Feedback: Build a network</a> <br>"
   ]
  },
  {
   "cell_type": "markdown",
   "metadata": {},
   "source": [
    "# Navigation"
   ]
  },
  {
   "cell_type": "markdown",
   "metadata": {
    "collapsed": true
   },
   "source": [
    "<div>\n",
    "<span> <h3 style=\"display:inline\">&lt;&lt; Prev: <a href = \"keras04.ipynb\">Process output data</a></h3> </span>\n",
    "<span style=\"float: right\"><h3 style=\"display:inline\">Next: <a href = \"keras06.ipynb\">Activation functions</a> &gt;&gt; </h3></span>\n",
    "</div>"
   ]
  },
  {
   "cell_type": "code",
   "execution_count": null,
   "metadata": {
    "collapsed": true
   },
   "outputs": [],
   "source": []
  }
 ],
 "metadata": {
  "kernelspec": {
   "display_name": "Python 3",
   "language": "python",
   "name": "python3"
  },
  "language_info": {
   "codemirror_mode": {
    "name": "ipython",
    "version": 3
   },
   "file_extension": ".py",
   "mimetype": "text/x-python",
   "name": "python",
   "nbconvert_exporter": "python",
   "pygments_lexer": "ipython3",
   "version": "3.6.3"
  }
 },
 "nbformat": 4,
 "nbformat_minor": 2
}
