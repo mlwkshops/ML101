{
 "cells": [
  {
   "cell_type": "markdown",
   "metadata": {},
   "source": [
    "### Previous: <a href = \"keras_04.ipynb\">1.4 Basic model of a network</a>"
   ]
  },
  {
   "cell_type": "markdown",
   "metadata": {},
   "source": [
    "# <center> Keras </center>\n",
    "## <center>1.5 Overfitting VS generalization</center>"
   ]
  },
  {
   "cell_type": "markdown",
   "metadata": {},
   "source": [
    "# Explanation"
   ]
  },
  {
   "cell_type": "markdown",
   "metadata": {},
   "source": [
    "### Overfitting\n",
    "Overfitting refers to a model that models the training data too well.<br>\n",
    "\n",
    "Overfitting happens when a model learns the detail and noise in the training data to the extent that it negatively impacts the performance of the model on new data. This means that the noise or random fluctuations in the training data is picked up and learned as concepts by the model. The problem is that these concepts do not apply to new data and negatively impact the models ability to generalize.\n",
    "\n",
    "<br> <br>\n",
    "\n",
    "\n",
    "\n",
    "\n",
    "<img src=\"https://i.stack.imgur.com/13vdb.png\" width = \"70%\" /><br>\n",
    "There have only been 56 presidential elections and 43 presidents. That is not a lot of data to learn from. When the predictor space expands to include things like having false teeth and the Scrabble point value of names, it's pretty easy for the model to go from fitting the generalizable features of the data (the signal) and to start matching the noise. When this happens, the fit on the historical data may improve, but the model will fail miserably when used to make inferences about future presidential elections.\n",
    "<br> <br>\n",
    "\n",
    "Here's a graph which illustrates overfitting: \n",
    "<img src=\"https://upload.wikimedia.org/wikipedia/commons/thumb/1/19/Overfitting.svg/685px-Overfitting.svg.png\n",
    "\" width = \"40%\" /><br>\n",
    "\n",
    "The black graph represents the desired accuracy, whereas the green graph looks too much into detail, thus adapts too much to the training data.\n",
    "\n",
    "<br>\n",
    "### Generalization\n",
    "\n",
    "\n",
    "Generalization refers to how well the concepts learned by a machine learning model applys to specific examples not seen by the model when it was learning.\n",
    "\n"
   ]
  },
  {
   "cell_type": "code",
   "execution_count": 1,
   "metadata": {},
   "outputs": [
    {
     "name": "stderr",
     "output_type": "stream",
     "text": [
      "Using TensorFlow backend.\n"
     ]
    }
   ],
   "source": [
    "#previously done\n",
    "from keras.models import Sequential\n",
    "from keras.layers.core import Dense, Dropout\n",
    "from keras.optimizers import SGD, Adam, Adamax\n",
    "from keras.utils.vis_utils import model_to_dot\n",
    "from keras.datasets import mnist\n",
    "from keras.utils import np_utils\n",
    "%matplotlib inline\n",
    "import math\n",
    "import random\n",
    "import numpy as np\n",
    "import matplotlib.pyplot as plt\n",
    "from IPython.display import SVG\n",
    "#Load MNIST\n",
    "(X_train, y_train), (X_test, y_test) = mnist.load_data()\n",
    "#Reshape\n",
    "X_train = X_train.reshape(60000, 784)\n",
    "X_test = X_test.reshape(10000, 784)\n",
    "X_train = X_train.astype('float32')\n",
    "X_test = X_test.astype('float32')\n",
    "X_train /= 255\n",
    "X_test /= 255\n",
    "Y_train = np_utils.to_categorical(y_train, 10)\n",
    "Y_test = np_utils.to_categorical(y_test, 10)\n",
    "#Split\n",
    "X_train = X_train[0:10000]\n",
    "X_test = X_test[0:1000]\n",
    "Y_train = Y_train[0:10000]\n",
    "Y_test = Y_test[0:1000]\n",
    "\n",
    "def plot_training_history(history):\n",
    "    plt.plot(history.history['acc'])\n",
    "    plt.plot(history.history['val_acc'])\n",
    "    plt.title('model accuracy')\n",
    "    plt.ylabel('accuracy')\n",
    "    plt.xlabel('epoch')\n",
    "    plt.legend(['train', 'test'], loc='upper left')\n",
    "    plt.show()\n",
    "    #loss\n",
    "    plt.plot(history.history['loss'])\n",
    "    plt.plot(history.history['val_loss'])\n",
    "    plt.title('model loss')\n",
    "    plt.ylabel('loss')\n",
    "    plt.xlabel('epoch')\n",
    "    plt.legend(['train', 'test'], loc='upper left')\n",
    "    plt.show()"
   ]
  },
  {
   "cell_type": "markdown",
   "metadata": {},
   "source": [
    "# Example"
   ]
  },
  {
   "cell_type": "code",
   "execution_count": 2,
   "metadata": {},
   "outputs": [
    {
     "name": "stdout",
     "output_type": "stream",
     "text": [
      "Train on 10000 samples, validate on 1000 samples\n",
      "Epoch 1/25\n",
      "10000/10000 [==============================] - 3s 334us/step - loss: 0.4628 - acc: 0.8712 - val_loss: 0.2621 - val_acc: 0.9150\n",
      "Epoch 2/25\n",
      "10000/10000 [==============================] - 3s 289us/step - loss: 0.1666 - acc: 0.9494 - val_loss: 0.2106 - val_acc: 0.9310\n",
      "Epoch 3/25\n",
      "10000/10000 [==============================] - 3s 288us/step - loss: 0.0972 - acc: 0.9706 - val_loss: 0.1702 - val_acc: 0.9350\n",
      "Epoch 4/25\n",
      "10000/10000 [==============================] - 3s 289us/step - loss: 0.0612 - acc: 0.9820 - val_loss: 0.1757 - val_acc: 0.9460\n",
      "Epoch 5/25\n",
      "10000/10000 [==============================] - 3s 290us/step - loss: 0.0325 - acc: 0.9920 - val_loss: 0.1466 - val_acc: 0.9540\n",
      "Epoch 6/25\n",
      "10000/10000 [==============================] - 3s 293us/step - loss: 0.0243 - acc: 0.9938 - val_loss: 0.1674 - val_acc: 0.9400\n",
      "Epoch 7/25\n",
      "10000/10000 [==============================] - 3s 287us/step - loss: 0.0132 - acc: 0.9970 - val_loss: 0.1442 - val_acc: 0.9600\n",
      "Epoch 8/25\n",
      "10000/10000 [==============================] - 3s 290us/step - loss: 0.0059 - acc: 0.9994 - val_loss: 0.1529 - val_acc: 0.9580\n",
      "Epoch 9/25\n",
      "10000/10000 [==============================] - 3s 298us/step - loss: 0.0076 - acc: 0.9981 - val_loss: 0.1477 - val_acc: 0.9590\n",
      "Epoch 10/25\n",
      "10000/10000 [==============================] - 3s 297us/step - loss: 0.0155 - acc: 0.9956 - val_loss: 0.1788 - val_acc: 0.9530\n",
      "Epoch 11/25\n",
      "10000/10000 [==============================] - 3s 291us/step - loss: 0.0241 - acc: 0.9927 - val_loss: 0.2095 - val_acc: 0.9520\n",
      "Epoch 12/25\n",
      "10000/10000 [==============================] - 3s 286us/step - loss: 0.0118 - acc: 0.9964 - val_loss: 0.2349 - val_acc: 0.9450\n",
      "Epoch 13/25\n",
      "10000/10000 [==============================] - 3s 293us/step - loss: 0.0125 - acc: 0.9962 - val_loss: 0.1667 - val_acc: 0.9530\n",
      "Epoch 14/25\n",
      "10000/10000 [==============================] - 3s 289us/step - loss: 0.0077 - acc: 0.9977 - val_loss: 0.1925 - val_acc: 0.9520\n",
      "Epoch 15/25\n",
      "10000/10000 [==============================] - 3s 285us/step - loss: 0.0044 - acc: 0.9988 - val_loss: 0.1867 - val_acc: 0.9560\n",
      "Epoch 16/25\n",
      "10000/10000 [==============================] - 3s 291us/step - loss: 0.0017 - acc: 0.9996 - val_loss: 0.1841 - val_acc: 0.9580\n",
      "Epoch 17/25\n",
      "10000/10000 [==============================] - 3s 291us/step - loss: 0.0020 - acc: 0.9994 - val_loss: 0.1850 - val_acc: 0.9640\n",
      "Epoch 18/25\n",
      "10000/10000 [==============================] - 3s 299us/step - loss: 0.0082 - acc: 0.9971 - val_loss: 0.1767 - val_acc: 0.9530\n",
      "Epoch 19/25\n",
      "10000/10000 [==============================] - 3s 296us/step - loss: 0.0144 - acc: 0.9958 - val_loss: 0.2145 - val_acc: 0.9510\n",
      "Epoch 20/25\n",
      "10000/10000 [==============================] - 4s 353us/step - loss: 0.0133 - acc: 0.9956 - val_loss: 0.2436 - val_acc: 0.9460\n",
      "Epoch 21/25\n",
      "10000/10000 [==============================] - 3s 341us/step - loss: 0.0099 - acc: 0.9969 - val_loss: 0.2383 - val_acc: 0.9490\n",
      "Epoch 22/25\n",
      "10000/10000 [==============================] - 3s 289us/step - loss: 0.0138 - acc: 0.9953 - val_loss: 0.2374 - val_acc: 0.9570\n",
      "Epoch 23/25\n",
      "10000/10000 [==============================] - 3s 294us/step - loss: 0.0055 - acc: 0.9983 - val_loss: 0.3158 - val_acc: 0.9410\n",
      "Epoch 24/25\n",
      "10000/10000 [==============================] - 3s 280us/step - loss: 0.0114 - acc: 0.9960 - val_loss: 0.2259 - val_acc: 0.9510\n",
      "Epoch 25/25\n",
      "10000/10000 [==============================] - 3s 297us/step - loss: 0.0142 - acc: 0.9954 - val_loss: 0.2408 - val_acc: 0.9530\n"
     ]
    },
    {
     "data": {
      "image/png": "[encoded data removed]",
      "text/plain": [
       "<matplotlib.figure.Figure at 0xe4c2a58>"
      ]
     },
     "metadata": {},
     "output_type": "display_data"
    },
    {
     "data": {
      "image/png": "[encoded data removed]",
      "text/plain": [
       "<matplotlib.figure.Figure at 0xf0c1e80>"
      ]
     },
     "metadata": {},
     "output_type": "display_data"
    }
   ],
   "source": [
    "model = Sequential()\n",
    "model.add(Dense(input_dim=28*28, units=500, activation='relu'))\n",
    "model.add(Dense(units=500, activation='relu'))\n",
    "model.add(Dense(units=10, activation='softmax'))\n",
    "\n",
    "model.compile(loss='categorical_crossentropy',\n",
    "              optimizer=Adam(),\n",
    "              metrics=['accuracy'])\n",
    "\n",
    "BATCH_SIZE=100\n",
    "NP_EPOCHS=25\n",
    "history = model.fit(X_train, Y_train,\n",
    "                    batch_size=BATCH_SIZE, epochs=NP_EPOCHS,\n",
    "                    verbose=1, validation_data=(X_test, Y_test))\n",
    "plot_training_history(history)"
   ]
  },
  {
   "cell_type": "markdown",
   "metadata": {},
   "source": [
    "# Task\n",
    "Should we in any case avoid overfitting? <br>\n"
   ]
  },
  {
   "cell_type": "markdown",
   "metadata": {},
   "source": [
    "# Feedback"
   ]
  },
  {
   "cell_type": "markdown",
   "metadata": {},
   "source": [
    "# Now we are trying to get the most out of our algorithm\n",
    "### Next: <a href = \"keras_06.ipynb\">1.6 Increasing/Decreasing number of layers</a>"
   ]
  },
  {
   "cell_type": "code",
   "execution_count": null,
   "metadata": {
    "collapsed": true
   },
   "outputs": [],
   "source": []
  }
 ],
 "metadata": {
  "celltoolbar": "Slideshow",
  "kernelspec": {
   "display_name": "Python 3",
   "language": "python",
   "name": "python3"
  },
  "language_info": {
   "codemirror_mode": {
    "name": "ipython",
    "version": 3
   },
   "file_extension": ".py",
   "mimetype": "text/x-python",
   "name": "python",
   "nbconvert_exporter": "python",
   "pygments_lexer": "ipython3",
   "version": "3.5.4"
  },
  "livereveal": {
   "scroll": true
  }
 },
 "nbformat": 4,
 "nbformat_minor": 1
}
