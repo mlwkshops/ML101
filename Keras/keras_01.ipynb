{
 "cells": [
  {
   "cell_type": "markdown",
   "metadata": {},
   "source": [
    "# <center> Keras </center>\n",
    "## <center>1.1 MNIST</center>"
   ]
  },
  {
   "cell_type": "markdown",
   "metadata": {},
   "source": [
    "# Explanation"
   ]
  },
  {
   "cell_type": "markdown",
   "metadata": {},
   "source": [
    "# MNIST  \n",
    "\n",
    "MNIST, short for __M__odified __N__ational __I__nstitute of __S__tandards and __T__echnology,<br> \n",
    "is a dataset, containing 70000 images of handwritten digits with 60000 for training and 10000 for testing. <br>\n",
    "\n",
    "Each of the images is labeled. Here's an extract of the MNIST dataset: <br>\n",
    "<img src=\"http://blog.welcomege.com/wp-content/uploads/2017/08/2017-08-08_14-39-24.png\" width = \"80%\" /><br>\n",
    "\n",
    "\n",
    "The images in the MNIST dataset are in greyscale with size 28x28 pixels each.\n",
    "<br>The Keras library already includes MNIST\n",
    "\n",
    "__Train-dataset__ is used to train the network.<br>\n",
    "__Validation-dataset__ is used to adjust hyperparameters during training.<br>\n",
    "__Test-dataset__ is used to provide an unbiased final evaluation of the model.<br><br>\n",
    "*In the scope of this workshop we will only focus on train and test datasets*\n",
    "\n",
    "## Best practice\n",
    "Common ratio for splitting the dataset:<br>\n",
    "Train:Test = 4:1<br>\n",
    "\n",
    "## Bad practice\n",
    "If the dataset is sorted you can't just split it.<br>\n",
    "I.e. in MNIST you would not train with all digits."
   ]
  },
  {
   "cell_type": "markdown",
   "metadata": {},
   "source": [
    "# Example"
   ]
  },
  {
   "cell_type": "code",
   "execution_count": null,
   "metadata": {
    "slideshow": {
     "slide_type": "slide"
    }
   },
   "outputs": [],
   "source": [
    "from keras.datasets import mnist\n",
    "# Load data from keras\n",
    "(X_train, y_train), (X_test, y_test) = mnist.load_data()\n",
    "\n",
    "print( X_train.shape)\n",
    "print(X_test.shape)"
   ]
  },
  {
   "cell_type": "raw",
   "metadata": {},
   "source": [
    "Lets see what a single image of the MNIST dataset looks like:"
   ]
  },
  {
   "cell_type": "code",
   "execution_count": null,
   "metadata": {},
   "outputs": [],
   "source": [
    "%matplotlib inline\n",
    "import matplotlib.pyplot as plt\n",
    "\n",
    "for i in range(9):\n",
    "    plt.subplot(3,3,i+1)\n",
    "    plt.imshow(X_train[i], cmap='gray', interpolation='none')\n",
    "    plt.title(\"Class {}\".format(y_train[i]))\n",
    "plt.tight_layout()"
   ]
  },
  {
   "cell_type": "markdown",
   "metadata": {},
   "source": [
    "Within MNIST, each image is labeled to a digit between 0 and 9."
   ]
  },
  {
   "cell_type": "markdown",
   "metadata": {},
   "source": [
    "# Feedback"
   ]
  },
  {
   "cell_type": "markdown",
   "metadata": {},
   "source": [
    "### Next: <a href = \"keras_02.ipynb\">1.2 Preprocessing Data</a>"
   ]
  },
  {
   "cell_type": "code",
   "execution_count": null,
   "metadata": {
    "collapsed": true
   },
   "outputs": [],
   "source": []
  }
 ],
 "metadata": {
  "celltoolbar": "Slideshow",
  "kernelspec": {
   "display_name": "Python 3",
   "language": "python",
   "name": "python3"
  },
  "language_info": {
   "codemirror_mode": {
    "name": "ipython",
    "version": 3
   },
   "file_extension": ".py",
   "mimetype": "text/x-python",
   "name": "python",
   "nbconvert_exporter": "python",
   "pygments_lexer": "ipython3",
   "version": "3.5.4"
  },
  "livereveal": {
   "scroll": true
  }
 },
 "nbformat": 4,
 "nbformat_minor": 1
}
