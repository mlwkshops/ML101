{
 "cells": [
  {
   "cell_type": "markdown",
   "metadata": {},
   "source": [
    "### Previous: <a href = \"keras_11.ipynb\">1.11 Units </a>"
   ]
  },
  {
   "cell_type": "markdown",
   "metadata": {
    "slideshow": {
     "slide_type": "slide"
    }
   },
   "source": [
    "# <center>Do's and Don'ts</center>"
   ]
  },
  {
   "cell_type": "markdown",
   "metadata": {},
   "source": [
    "__- You don’t need ML to solve linear, transparent problems that operate by a clear set of rules (i.e. for solving simple equations no ML is required).__<br><br>\n",
    "__- You should provide sufficient training data. __<br><br>\n",
    "__- Don't overfit your network.__<br><br>\n",
    "__- If you are training only a subset of your data that doesn't contain the whole information (i.e. MNIST: only images with digits from with 0 to 7)__<br><br>\n",
    "__- If there is not much data, you can use cross-validation techniques__<br><br>\n",
    "\n"
   ]
  },
  {
   "cell_type": "markdown",
   "metadata": {
    "collapsed": true
   },
   "source": [
    "### Next:   <a href=\"../TensorFlow/tensorflow_01.ipynb\">Check out TensorFlow 2.1 Structure</a>"
   ]
  },
  {
   "cell_type": "code",
   "execution_count": null,
   "metadata": {
    "collapsed": true
   },
   "outputs": [],
   "source": []
  }
 ],
 "metadata": {
  "celltoolbar": "Slideshow",
  "kernelspec": {
   "display_name": "Python 3",
   "language": "python",
   "name": "python3"
  },
  "language_info": {
   "codemirror_mode": {
    "name": "ipython",
    "version": 3
   },
   "file_extension": ".py",
   "mimetype": "text/x-python",
   "name": "python",
   "nbconvert_exporter": "python",
   "pygments_lexer": "ipython3",
   "version": "3.5.4"
  },
  "livereveal": {
   "scroll": true
  }
 },
 "nbformat": 4,
 "nbformat_minor": 1
}
