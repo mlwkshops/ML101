{
 "cells": [
  {
   "cell_type": "markdown",
   "metadata": {},
   "source": [
    "### Previous: <a href = \"keras_11.ipynb\">1.11 Units</a>"
   ]
  },
  {
   "cell_type": "markdown",
   "metadata": {},
   "source": [
    "# <center> Keras </center>\n",
    "## <center>1.12 Dropout</center> "
   ]
  },
  {
   "cell_type": "markdown",
   "metadata": {},
   "source": [
    "# Explanation"
   ]
  },
  {
   "cell_type": "markdown",
   "metadata": {
    "slideshow": {
     "slide_type": "slide"
    }
   },
   "source": [
    "# Dropout\n",
    "Dropout reduces the complexity of a model.<br>\n",
    "It helps protect the model from memorizing or \"overfitting\" the training data.\n",
    "Dropout, applied to a layer, consists of randomly \"dropping out\" (i.e. setting to zero) a\n",
    "number of output features of the layer during training.\n",
    "<img src=\"img/Dropout.jpg\"  width=\"600\"/>\n",
    "<img src=\"img/dropout.png\"  width=\"600\"/>\n",
    "\n",
    "Through dropout the network can't always relay on all of its knowledge, thus it has to classify with less nodes. This makes the whole network more robust and prevents overfitting.<br><br>\n",
    "Dropout helps to improve the accuracy when there is not much data to train on.<br>\n",
    "As not every layer is fully connected to the next one, less computing cost is needed.\n",
    "\n",
    "# Best practice\n",
    "Fully conected is not always better"
   ]
  },
  {
   "cell_type": "code",
   "execution_count": 1,
   "metadata": {},
   "outputs": [
    {
     "name": "stderr",
     "output_type": "stream",
     "text": [
      "Using TensorFlow backend.\n"
     ]
    }
   ],
   "source": [
    "#previously done\n",
    "from keras.models import Sequential\n",
    "from keras.layers.core import Dense, Dropout\n",
    "from keras.optimizers import SGD, Adam, Adamax\n",
    "from keras.utils import np_utils\n",
    "from keras.utils.vis_utils import model_to_dot\n",
    "from keras.datasets import mnist\n",
    "from keras.datasets import mnist\n",
    "from keras.utils import np_utils\n",
    "%matplotlib inline\n",
    "import math\n",
    "import random\n",
    "import numpy as np\n",
    "import matplotlib.pyplot as plt\n",
    "from IPython.display import SVG\n",
    "#Load MNIST\n",
    "(X_train, y_train), (X_test, y_test) = mnist.load_data()\n",
    "#Reshape\n",
    "X_train = X_train.reshape(60000, 784)\n",
    "X_test = X_test.reshape(10000, 784)\n",
    "X_train = X_train.astype('float32')\n",
    "X_test = X_test.astype('float32')\n",
    "X_train /= 255\n",
    "X_test /= 255\n",
    "Y_train = np_utils.to_categorical(y_train, 10)\n",
    "Y_test = np_utils.to_categorical(y_test, 10)\n",
    "#Split\n",
    "X_train = X_train[0:10000]\n",
    "X_test = X_test[0:1000]\n",
    "Y_train = Y_train[0:10000]\n",
    "Y_test = Y_test[0:1000]\n",
    "\n",
    "def plot_training_history(history):\n",
    "    plt.plot(history.history['acc'])\n",
    "    plt.plot(history.history['val_acc'])\n",
    "    plt.title('model accuracy')\n",
    "    plt.ylabel('accuracy')\n",
    "    plt.xlabel('epoch')\n",
    "    plt.legend(['train', 'test'], loc='upper left')\n",
    "    plt.show()\n",
    "    #loss\n",
    "    plt.plot(history.history['loss'])\n",
    "    plt.plot(history.history['val_loss'])\n",
    "    plt.title('model loss')\n",
    "    plt.ylabel('loss')\n",
    "    plt.xlabel('epoch')\n",
    "    plt.legend(['train', 'test'], loc='upper left')\n",
    "    plt.show()\n"
   ]
  },
  {
   "cell_type": "markdown",
   "metadata": {},
   "source": [
    "# Example"
   ]
  },
  {
   "cell_type": "code",
   "execution_count": 4,
   "metadata": {
    "collapsed": true
   },
   "outputs": [],
   "source": [
    "model = Sequential()\n",
    "model.add(Dense(input_dim=28*28, units=500, activation='relu'))\n",
    "#model.add(Dropout(0.2))\n",
    "model.add(Dense(units=500, activation='relu'))\n",
    "#model.add(Dropout(0.2))\n",
    "model.add(Dense(units=10, activation='softmax'))\n",
    "BATCH_SIZE= 100\n",
    "NP_EPOCHS = 10\n",
    "\n",
    "model.compile(loss='categorical_crossentropy',\n",
    "              optimizer=Adam(),\n",
    "              metrics=['accuracy'])"
   ]
  },
  {
   "cell_type": "code",
   "execution_count": 5,
   "metadata": {},
   "outputs": [
    {
     "name": "stdout",
     "output_type": "stream",
     "text": [
      "Train on 10000 samples, validate on 1000 samples\n",
      "Epoch 1/10\n",
      "10000/10000 [==============================] - 3s 335us/step - loss: 0.4653 - acc: 0.8691 - val_loss: 0.2869 - val_acc: 0.9170\n",
      "Epoch 2/10\n",
      "10000/10000 [==============================] - 3s 286us/step - loss: 0.1753 - acc: 0.9479 - val_loss: 0.1917 - val_acc: 0.9350\n",
      "Epoch 3/10\n",
      "10000/10000 [==============================] - 3s 291us/step - loss: 0.1016 - acc: 0.9685 - val_loss: 0.1909 - val_acc: 0.9380\n",
      "Epoch 4/10\n",
      "10000/10000 [==============================] - 3s 294us/step - loss: 0.0656 - acc: 0.9809 - val_loss: 0.1548 - val_acc: 0.9470\n",
      "Epoch 5/10\n",
      "10000/10000 [==============================] - 3s 291us/step - loss: 0.0384 - acc: 0.9891 - val_loss: 0.1653 - val_acc: 0.9480\n",
      "Epoch 6/10\n",
      "10000/10000 [==============================] - 3s 327us/step - loss: 0.0260 - acc: 0.9921 - val_loss: 0.1376 - val_acc: 0.9580\n",
      "Epoch 7/10\n",
      "10000/10000 [==============================] - 3s 315us/step - loss: 0.0174 - acc: 0.9958 - val_loss: 0.1497 - val_acc: 0.9540\n",
      "Epoch 8/10\n",
      "10000/10000 [==============================] - 3s 315us/step - loss: 0.0104 - acc: 0.9979 - val_loss: 0.1487 - val_acc: 0.9610\n",
      "Epoch 9/10\n",
      "10000/10000 [==============================] - 3s 300us/step - loss: 0.0030 - acc: 0.9999 - val_loss: 0.1543 - val_acc: 0.9630\n",
      "Epoch 10/10\n",
      "10000/10000 [==============================] - 3s 291us/step - loss: 0.0017 - acc: 0.9999 - val_loss: 0.1530 - val_acc: 0.9600\n"
     ]
    },
    {
     "data": {
      "image/png": "[encoded data removed]",
      "text/plain": [
       "<matplotlib.figure.Figure at 0xe6b1748>"
      ]
     },
     "metadata": {},
     "output_type": "display_data"
    },
    {
     "data": {
      "image/png": "[encoded data removed]",
      "text/plain": [
       "<matplotlib.figure.Figure at 0x1bdc88d0>"
      ]
     },
     "metadata": {},
     "output_type": "display_data"
    }
   ],
   "source": [
    "history = model.fit(X_train, Y_train,\n",
    "                    batch_size=BATCH_SIZE, epochs=NP_EPOCHS,\n",
    "                    verbose=1, validation_data=(X_test, Y_test))\n",
    "plot_training_history(history)"
   ]
  },
  {
   "cell_type": "markdown",
   "metadata": {},
   "source": [
    "# Task\n",
    "Try out the following dropout-rates:<br>\n",
    "a) 0.1<br>\n",
    "b) 0.9"
   ]
  },
  {
   "cell_type": "markdown",
   "metadata": {
    "collapsed": true
   },
   "source": [
    "# Feedback"
   ]
  },
  {
   "cell_type": "markdown",
   "metadata": {},
   "source": [
    "### Next:   <a href=\"../TensorFlow/tensorflow_01.ipynb\">Check out TensorFlow 2.1 Structure</a>"
   ]
  }
 ],
 "metadata": {
  "celltoolbar": "Slideshow",
  "kernelspec": {
   "display_name": "Python 3",
   "language": "python",
   "name": "python3"
  },
  "language_info": {
   "codemirror_mode": {
    "name": "ipython",
    "version": 3
   },
   "file_extension": ".py",
   "mimetype": "text/x-python",
   "name": "python",
   "nbconvert_exporter": "python",
   "pygments_lexer": "ipython3",
   "version": "3.5.4"
  },
  "livereveal": {
   "scroll": true
  }
 },
 "nbformat": 4,
 "nbformat_minor": 1
}
