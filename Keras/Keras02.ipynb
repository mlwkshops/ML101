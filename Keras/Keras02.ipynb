{
 "cells": [
  {
   "cell_type": "markdown",
   "metadata": {},
   "source": [
    "# <center> Keras </center>\n",
    "## <center>1.2 MNIST database</center>"
   ]
  },
  {
   "cell_type": "markdown",
   "metadata": {},
   "source": [
    "# MNIST  database\n",
    "\n",
    "MNIST, short for __M__odified __N__ational __I__nstitute of __S__tandards and __T__echnology,<br> \n",
    "is a dataset, containing 70000 images of handwritten digits with 60000 for training and 10000 for testing. <br>\n",
    "The digits used in the database are size-normalized and centered in a fixed-size image of 28x28 pixels\n",
    "\n",
    "All the images in the database are labelled. Here's an extract of the MNIST dataset: <br>\n",
    "<img src=\"http://blog.welcomege.com/wp-content/uploads/2017/08/2017-08-08_14-39-24.png\" width = \"80%\" /><br>\n",
    "\n",
    "<br>The Keras library already includes MNIST\n",
    "\n",
    "## Splitting Dataset\n",
    "Evaluating a model requires splitting your available data into three sets:\n",
    "training, validation, and test set. You train on the training data, and evaluate your model\n",
    "on the validation data. Once your model is ready for prime time, you test it one final time\n",
    "on the test data.\n",
    "\n",
    "__Training-dataset__ is used to train the network.<br>\n",
    "__Validation-dataset__ is used to evaluate the training.<br>\n",
    "__Test-dataset__ is used to provide an unbiased final evaluation of the model. (To prevent information leak)<br><br>\n",
    "*In the scope of this workshop we will only focus on train and test datasets*\n",
    "\n",
    "## Best practice\n",
    "There is no standard way of dividing the dataset between training, validation and testing datasets.\n",
    "As a common rule of thumb, it is advised to split the dataset in training and testing set in the following ratio (Paretos principle):<br>\n",
    "&emsp;Training:Testing = 80:20<br>\n",
    "And use the following ratio for dividing into training, validation and testing:<br>\n",
    "&emsp;Training:Validation:Testing = 60:20:20<br>\n",
    "\n",
    "## Pitfalls\n",
    "While dividing the dataset into training and testing, special care is necessary to make sure that both the train and test dataset contain enough examples for each classification. This requires knowledge about the dataset. Failure to do so can result in bad network performance. For example, if the MNIST dataset were sorted according to digits, we would not be able just take the first 60000 indices because this would lead to misrepresentation of digit 8 and 9.<br>"
   ]
  },
  {
   "cell_type": "markdown",
   "metadata": {},
   "source": [
    "# Code"
   ]
  },
  {
   "cell_type": "code",
   "execution_count": null,
   "metadata": {
    "collapsed": true
   },
   "outputs": [],
   "source": [
    "# Importing the MNIST dataset\n",
    "from keras.datasets import mnist\n",
    "(train_images, train_labels), (test_images, test_labels) = mnist.load_data()"
   ]
  },
  {
   "cell_type": "markdown",
   "metadata": {},
   "source": [
    "The MNIST dataset comes pre-loaded in Keras, in the form of a set of four Numpy arrays.<br>\n",
    "`train_images` and `train_labels` form the __training set__, the data that the model will learn from. \n",
    "The model will then be tested on the __test set__, `test_images` and `test_labels`.<br><br>\n",
    "\n",
    "Let's examine the loaded data:"
   ]
  },
  {
   "cell_type": "code",
   "execution_count": null,
   "metadata": {
    "collapsed": true
   },
   "outputs": [],
   "source": [
    "# Training data\n",
    "print (\"Shape of training images: \\n\" + str(train_images.shape))\n",
    "print (\"Length of training images: \\n\" + str(len(train_labels)))\n",
    "print (\"Training Labels: \\n\" + str(train_labels))\n",
    "\n",
    "print (\"\\n----------------\\n\")\n",
    "# Testing data\n",
    "print (\"Shape of test images: \\n\" + str(test_images.shape))\n",
    "print (\"Length of test images: \\n\" + str(len(test_labels)))\n",
    "print (\"Test Labels: \\n\" + str(test_labels))\n"
   ]
  },
  {
   "cell_type": "markdown",
   "metadata": {},
   "source": [
    "Let's plot one MNIST image and see what it looks like:"
   ]
  },
  {
   "cell_type": "code",
   "execution_count": null,
   "metadata": {
    "collapsed": true
   },
   "outputs": [],
   "source": [
    "%matplotlib inline\n",
    "import matplotlib.pyplot as plt\n",
    "\n",
    "plt.imshow(train_images[0], cmap='gray', interpolation='none')\n",
    "print(\"Digit Class: \" + str(train_labels[0]))"
   ]
  },
  {
   "cell_type": "markdown",
   "metadata": {
    "collapsed": true
   },
   "source": [
    "Let's plot some more digits:"
   ]
  },
  {
   "cell_type": "code",
   "execution_count": null,
   "metadata": {
    "collapsed": true
   },
   "outputs": [],
   "source": [
    "for i in range(9):\n",
    "    plt.subplot(3,3,i+1)\n",
    "    plt.imshow(train_images[i], cmap='gray', interpolation='none')\n",
    "    plt.title(\"Class {}\".format(train_labels[i]))\n",
    "plt.tight_layout()\n"
   ]
  },
  {
   "cell_type": "markdown",
   "metadata": {},
   "source": [
    "# Task\n",
    "\n",
    "Print out the distribution of digits in the test dataset. <br>\n",
    "__NOTE:__ This task requires some previous knowledge of Python. "
   ]
  },
  {
   "cell_type": "markdown",
   "metadata": {},
   "source": [
    "# Feedback\n",
    "<a href = \"http://goto/ml101_doc/Keras02\">Feedback: MNIST database</a> <br>"
   ]
  },
  {
   "cell_type": "markdown",
   "metadata": {},
   "source": [
    "# Navigation"
   ]
  },
  {
   "cell_type": "markdown",
   "metadata": {},
   "source": [
    "<div>\n",
    "<span> <h3 style=\"display:inline\">&lt;&lt; Prev: <a href = \"Keras01.ipynb\">MNIST with Keras</a></h3> </span>\n",
    "<span style=\"float: right\"><h3 style=\"display:inline\">Next: <a href = \"Keras03.ipynb\">Process input data</a> &gt;&gt; </h3></span>\n",
    "</div>"
   ]
  }
 ],
 "metadata": {
  "kernelspec": {
   "display_name": "Python 3",
   "language": "python",
   "name": "python3"
  },
  "language_info": {
   "codemirror_mode": {
    "name": "ipython",
    "version": 3
   },
   "file_extension": ".py",
   "mimetype": "text/x-python",
   "name": "python",
   "nbconvert_exporter": "python",
   "pygments_lexer": "ipython3",
   "version": "3.6.3"
  }
 },
 "nbformat": 4,
 "nbformat_minor": 2
}
